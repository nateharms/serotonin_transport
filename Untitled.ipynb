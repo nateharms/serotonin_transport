{
 "cells": [
  {
   "cell_type": "markdown",
   "metadata": {},
   "source": [
    "# This is going to be a 2D attempt at making the serotonin transport thing work"
   ]
  },
  {
   "cell_type": "code",
   "execution_count": 1,
   "metadata": {
    "collapsed": false
   },
   "outputs": [
    {
     "name": "stderr",
     "output_type": "stream",
     "text": [
      "/Users/nathan/anaconda/envs/rmg_env/lib/python2.7/site-packages/matplotlib/font_manager.py:273: UserWarning: Matplotlib is building the font cache using fc-list. This may take a moment.\n",
      "  warnings.warn('Matplotlib is building the font cache using fc-list. This may take a moment.')\n"
     ]
    }
   ],
   "source": [
    "import numpy as np\n",
    "%matplotlib inline\n",
    "from matplotlib import pyplot as plt\n",
    "from collections import namedtuple"
   ]
  },
  {
   "cell_type": "code",
   "execution_count": 2,
   "metadata": {
    "collapsed": false
   },
   "outputs": [
    {
     "data": {
      "text/plain": [
       "(1, 5)"
      ]
     },
     "execution_count": 2,
     "metadata": {},
     "output_type": "execute_result"
    }
   ],
   "source": [
    "concentration = np.array([[5,0,0,0,0]])\n",
    "concentration.shape"
   ]
  },
  {
   "cell_type": "markdown",
   "metadata": {},
   "source": [
    "Okay, what I'm trying to do is set up euler's method for each of these different ways\n",
    "\n",
    "We have the following modes of transport:\n",
    "* Diffusion\n",
    "* Adsorbtion \n",
    "* Reaction\n",
    "\n",
    "The overall mass balance is represented by the following equation:\n",
    "\n",
    "$ \\frac{\\partial}{\\partial t}(\\rho c_i) + \\frac{1}{r}\\frac{\\partial}{\\partial r}(r \\rho v_r c_i) + \\frac{\\partial}{\\partial z}(\\rho v_z c_i) = \\frac{1}{r} \\frac{\\partial}{\\partial r}(r \\rho D \\frac{\\partial c_i}{\\partial r}) + \\frac{\\partial}{\\partial z}(\\rho D \\frac{\\partial c_i}{\\partial z}) + R_i$"
   ]
  },
  {
   "cell_type": "markdown",
   "metadata": {},
   "source": [
    "We can make the following assumptions:\n",
    "\n",
    "* No accumulation\n",
    "* No change in density\n",
    "* No velocity in the $r$ direction\n",
    "* No change in velocity in the $z$ direction\n",
    "\n",
    "Therefore the differiential equation expands as follows:\n",
    "\n",
    "$ \\rho v_z \\frac{\\partial c_i}{\\partial z} = \\rho D \\frac{1}{r} (r \\frac{\\partial^2 c_i}{\\partial r^2} + \\frac{\\partial c_i}{\\partial r}) + \\rho D \\frac{\\partial^2 c_i}{\\partial z^2} + R_i $"
   ]
  },
  {
   "cell_type": "markdown",
   "metadata": {},
   "source": [
    "For the previous equation we have a variety of ways to approximate each derivative:\n",
    "\n",
    "$ \\frac{ \\partial y } {\\partial x} = \\frac{y_{n} - y_{n-1}}{\\Delta x}$\n",
    "\n",
    "$ \\frac{ \\partial y } {\\partial x} = \\frac{y_{n+1} - y_{n-1}}{2 \\Delta x}$\n",
    "\n",
    "$ \\frac{ \\partial y } {\\partial x} = \\frac{y_{n-2} - 8 y_{n-1} - + 8 y_{n+1} - y_{n+2}}{12 \\Delta x}$\n",
    "\n",
    "$\\frac{ \\partial^2 y } {\\partial x^2} = \\frac{y_{n+1} - 2 y_n + y_{n-1}}{(\\Delta x)^2}$\n",
    "\n",
    "\n"
   ]
  },
  {
   "cell_type": "code",
   "execution_count": null,
   "metadata": {
    "collapsed": true
   },
   "outputs": [],
   "source": []
  }
 ],
 "metadata": {
  "kernelspec": {
   "display_name": "Python 2",
   "language": "python",
   "name": "python2"
  },
  "language_info": {
   "codemirror_mode": {
    "name": "ipython",
    "version": 2
   },
   "file_extension": ".py",
   "mimetype": "text/x-python",
   "name": "python",
   "nbconvert_exporter": "python",
   "pygments_lexer": "ipython2",
   "version": "2.7.12"
  }
 },
 "nbformat": 4,
 "nbformat_minor": 2
}
