{
 "cells": [
  {
   "cell_type": "markdown",
   "metadata": {},
   "source": [
    "# This is going to be a 2D attempt at making the serotonin transport thing work"
   ]
  },
  {
   "cell_type": "code",
   "execution_count": 24,
   "metadata": {
    "collapsed": true
   },
   "outputs": [],
   "source": [
    "import numpy as np\n",
    "%matplotlib inline\n",
    "from matplotlib import pyplot as plt\n",
    "from collections import namedtuple\n",
    "from matplotlib import cm\n",
    "from matplotlib.ticker import LinearLocator, FormatStrFormatter\n",
    "from mpl_toolkits.mplot3d import Axes3D\n",
    "import scipy\n",
    "from scipy import integrate\n",
    "import scipy.special as special\n",
    "import numpy as np\n",
    "import pandas as pd\n",
    "from pylab import *"
   ]
  },
  {
   "cell_type": "code",
   "execution_count": 2,
   "metadata": {},
   "outputs": [
    {
     "data": {
      "text/plain": [
       "(1, 5)"
      ]
     },
     "execution_count": 2,
     "metadata": {},
     "output_type": "execute_result"
    }
   ],
   "source": [
    "concentration = np.array([[5,0,0,0,0]])\n",
    "concentration.shape"
   ]
  },
  {
   "cell_type": "markdown",
   "metadata": {},
   "source": [
    "Okay, what I'm trying to do is set up euler's method for each of these different ways\n",
    "\n",
    "We have the following modes of transport:\n",
    "* Diffusion\n",
    "* Adsorbtion \n",
    "* Reaction\n",
    "\n",
    "The overall mass balance is represented by the following equation:\n",
    "\n",
    "$ \\frac{\\partial}{\\partial t}(\\rho c_i) + \\frac{1}{r}\\frac{\\partial}{\\partial r}(r \\rho v_r c_i) + \\frac{\\partial}{\\partial z}(\\rho v_z c_i) = \\frac{1}{r} \\frac{\\partial}{\\partial r}(r \\rho D \\frac{\\partial c_i}{\\partial r}) + \\frac{\\partial}{\\partial z}(\\rho D \\frac{\\partial c_i}{\\partial z}) + R_i$"
   ]
  },
  {
   "cell_type": "markdown",
   "metadata": {},
   "source": [
    "We can make the following assumptions:\n",
    "\n",
    "* No accumulation\n",
    "* No change in density\n",
    "* No velocity in the $r$ direction\n",
    "* No change in velocity in the $z$ direction\n",
    "\n",
    "Therefore the differiential equation expands as follows:\n",
    "\n",
    "$ \\rho v_z \\frac{\\partial c_i}{\\partial z} = \\rho D \\frac{1}{r} (r \\frac{\\partial^2 c_i}{\\partial r^2} + \\frac{\\partial c_i}{\\partial r}) + \\rho D \\frac{\\partial^2 c_i}{\\partial z^2} + R_i $"
   ]
  },
  {
   "cell_type": "markdown",
   "metadata": {},
   "source": [
    "For the previous equation we have a variety of ways to approximate each derivative:\n",
    "\n",
    "$ \\frac{ \\partial y } {\\partial x} = \\frac{y_{n} - y_{n-1}}{\\Delta x}$\n",
    "\n",
    "$ \\frac{ \\partial y } {\\partial x} = \\frac{y_{n+1} - y_{n-1}}{2 \\Delta x}$\n",
    "\n",
    "$ \\frac{ \\partial y } {\\partial x} = \\frac{y_{n-2} - 8 y_{n-1} - + 8 y_{n+1} - y_{n+2}}{12 \\Delta x}$\n",
    "\n",
    "$\\frac{ \\partial^2 y } {\\partial x^2} = \\frac{y_{n+1} - 2 y_n + y_{n-1}}{(\\Delta x)^2}$\n",
    "\n",
    "\n"
   ]
  },
  {
   "cell_type": "markdown",
   "metadata": {
    "collapsed": true
   },
   "source": [
    "# Starting with Abdul\n",
    "\n",
    "$ \\rho {v_z} \\frac{\\partial C}{\\partial z} = \\rho D \\frac{1}{r} (r \\frac{\\partial^2 C}{\\partial r^2} + \\frac{\\partial C}{\\partial r})+ \\rho D \\frac{\\partial^2 C}{\\partial z^2} \\longrightarrow  $ Assuming no reaction"
   ]
  },
  {
   "cell_type": "markdown",
   "metadata": {
    "collapsed": true
   },
   "source": [
    "$- \\rho D \\frac{\\partial^2 C}{\\partial z^2} + \\rho v_z \\frac{\\partial C}{\\partial z} = \\rho D \\frac{1}{r} (r \\frac{\\partial^2 C}{\\partial r^2} + \\frac{\\partial C}{\\partial r})$"
   ]
  },
  {
   "cell_type": "markdown",
   "metadata": {},
   "source": [
    "Assume $ \\frac{\\partial^2 C}{\\partial z^2} $ is much smaller than $ \\frac{\\partial^2 C}{\\partial z^2} $ and ignore axial conduction\n",
    "\n",
    "$ {v_z}\\frac{\\partial C}{\\partial z} = \\frac{1}{r}\\frac{\\partial}{\\partial r}({r}{D}\\frac{\\partial C}{\\partial r}) $"
   ]
  },
  {
   "cell_type": "markdown",
   "metadata": {},
   "source": [
    "Let $ {v_z} = {v_{max}}(1-(\\frac{r}{R})^2) $"
   ]
  },
  {
   "cell_type": "markdown",
   "metadata": {},
   "source": [
    "$ \\frac{v_{max}}{D}(1-(\\frac{r}{R})^2) \\frac{\\partial C}{\\partial z} =  \\frac{D}{r}\\frac{\\partial}{\\partial r}({r}\\frac{\\partial C}{\\partial r}) $"
   ]
  },
  {
   "cell_type": "markdown",
   "metadata": {},
   "source": [
    "Introduce dimensionless variables\n",
    "$ \\xi = \\frac{r}{R} $ and $ \\zeta = \\frac{zD}{R^2 v_{max}} $\n",
    "\n",
    "$ (1-\\xi ^2) \\frac{\\partial C}{\\partial \\zeta} = \\frac{1}{\\xi} \\frac{\\partial}{\\partial \\xi} (\\xi \\frac{\\partial C}{\\partial \\xi}) $"
   ]
  },
  {
   "cell_type": "markdown",
   "metadata": {},
   "source": [
    "Boundary Conditions:\n",
    "\n",
    "$ C = C_{ao} \\quad \\zeta = 0 $\n",
    "\n",
    "$ C = C_{w} \\quad \\xi = 1 $\n",
    "\n",
    "$ \\frac{\\partial C}{\\partial \\xi} = 0 \\quad \\xi = 0 $\n",
    "\n",
    "\n"
   ]
  },
  {
   "cell_type": "markdown",
   "metadata": {},
   "source": [
    "To ensure homogenous conditions in $ \\xi$ domain\n",
    "\n",
    "$ \\theta = C - C_w $\n",
    "\n",
    "so\n",
    "\n",
    "$ (1-\\xi ^2) \\frac{\\partial \\theta}{\\partial \\zeta} = \\frac{1}{\\xi} \\frac{\\partial}{\\partial \\xi} (\\xi \\frac{\\partial \\theta}{\\partial \\xi}) $\n",
    "\n",
    "and\n",
    "\n",
    "$ \\theta = C_{ao} - C_w \\quad \\zeta = 0 $\n",
    "\n",
    "$ \\theta = 0 \\quad \\xi = 1 $\n",
    "\n",
    "$ \\frac{\\partial \\theta}{\\partial \\xi} = 0 \\quad \\xi = 0 $\n"
   ]
  },
  {
   "cell_type": "markdown",
   "metadata": {},
   "source": [
    "Propose $\\theta(\\xi,\\zeta) = \\varphi(\\xi)Z(\\zeta) $ and rearrange and separate variables\n",
    "\n",
    "$ \\frac{(1/\\xi)(d/d \\xi)(\\xi(d\\varphi/d\\xi))}{[(a-\\xi^2)\\varphi]}=\\frac{Z'}{Z}=-\\lambda^2 $"
   ]
  },
  {
   "cell_type": "markdown",
   "metadata": {},
   "source": [
    "Ensure $C - C_w = 0$  diminishes as $\\varphi \\rightarrow \\infty$\n",
    "\n",
    "$[1] \\quad \\frac{d}{d \\xi}(\\xi \\frac{d \\varphi}{d \\xi}) + \\lambda^2 \\xi (1-\\xi^2)\\varphi = 0 $ \n",
    "\n",
    "$[2] \\quad \\frac{d Z}{d \\zeta} + \\lambda^2 Z = 0 $"
   ]
  },
  {
   "cell_type": "markdown",
   "metadata": {},
   "source": [
    "Equation [1] is a Sturm-Liouville equation with\n",
    "\n",
    "$ p(\\xi)=\\xi, \\quad q(\\xi)=0, \\quad r(\\xi)=\\xi (1-\\xi^2), \\quad $ and $ \\beta=\\lambda^2$\n",
    "\n",
    "and homogenous boundary conditions require\n",
    "\n",
    "$\\varphi'(0)=0, \\quad \\varphi(1)=0$\n",
    "\n",
    "which are also Sturm-Liouville type, to ensure the solutions $\\varphi_n$ and $\\varphi_m$ are orthogonal with respect to $r(\\xi)=\\xi(1-\\xi^2)$"
   ]
  },
  {
   "cell_type": "markdown",
   "metadata": {},
   "source": [
    "The Graetz equation in the analysis of heat/mass transfer to fluids in laminar flow.\n",
    "\n",
    "\n",
    "The Graetz polynomials generated by the solution to equation [1] by using method of Frobenius to $\\varphi(\\xi)=Gz(\\xi,\\lambda)$ to get... *will not actually show work for this*\n",
    "\n",
    "$Gz(\\xi,\\lambda)=1-\\frac{\\lambda^2}{4}\\xi^2 + \\frac{\\lambda^2}{16}(1+\\frac{\\lambda^2}{4})\\xi^4+...$\n",
    "\n",
    "combining the solutions for $Z(\\zeta)$ and $\\varphi$ gives for $\\lambda \\neq 0$\n",
    "\n",
    "$\\theta=AGz(\\xi,\\lambda)$exp$(-\\lambda^2\\zeta)$"
   ]
  },
  {
   "cell_type": "markdown",
   "metadata": {},
   "source": [
    "The solution when $\\lambda=0$ is $B$ln$\\xi+C$ but ln$\\xi$ is not finite at the center, $B = 0$ and the remaining solutions are now\n",
    "\n",
    "$\\theta=AGz(\\xi,\\lambda)$exp$(\\lambda^2\\zeta)+C$"
   ]
  },
  {
   "cell_type": "markdown",
   "metadata": {},
   "source": [
    "For an infinetly long gut, it is obvious that $C \\rightarrow C_w$ as $z \\rightarrow \\infty$ so $\\theta \\rightarrow 0$ as $\\zeta \\rightarrow \\infty$\n",
    "\n",
    "$\\theta = AGz(\\xi,\\lambda)$exp$(-\\lambda^2\\zeta)$"
   ]
  },
  {
   "cell_type": "markdown",
   "metadata": {},
   "source": [
    "Apply the wall condition, $\\theta=0$ at $\\xi=1$ to get\n",
    "\n",
    "$Gz(1,\\lambda)=0,\\quad \\xi=1$\n",
    "\n",
    "$0=1-(\\frac{\\lambda^2}{4})+(\\frac{\\lambda^2}{16})(1+\\frac{\\lambda^2}{4})-...$\n",
    "\n",
    "the general result being\n",
    "\n",
    "$\\theta(\\xi,\\zeta)=\\sum_{n-1}^{\\infty}A_n G z_n(\\xi)$exp$(-\\lambda^2 \\zeta)$"
   ]
  },
  {
   "cell_type": "markdown",
   "metadata": {},
   "source": [
    "Denote $Gz_n(\\xi)$ as the eigenfunction $Gz_n(\\xi,\\lambda_n)$ and apply condition at the inlet\n",
    "\n",
    "$(C_{ao} - C_w)=\\sum_{n=1}^{\\infty}A_n Gz_n(\\xi)$\n",
    "\n",
    "multiply both sides with the weighting function $r(\\xi)=\\xi (1-\\xi^2)$ and by $Gz_m(\\xi)$ where $n \\neq m$ and integrate between 0 and 1 to get\n",
    "\n",
    "$(C_{ao} - C_w)\\int_{0}^{1} Gz_m(\\xi)\\xi (1-\\xi^2) d\\xi = \\sum_{n=1}^{\\infty}A_n \\int_{0}^{1} Gz_n(\\xi)Gz_m(\\xi)\\xi (1-\\xi^2) d\\xi $"
   ]
  },
  {
   "cell_type": "markdown",
   "metadata": {},
   "source": [
    "Orthogonality conditions eliminate all terms except when $m=n$ within the summation, so solving for $A_n$\n",
    "\n",
    "$A_n= \\frac{(C_{ao}-C_w)\\int_{0}^{1}Gz_n(\\xi)\\xi(1-\\xi^2)d\\xi}{\\int_{0}^{1}Gz_n^2(\\xi)\\xi (1-\\xi^2)d\\xi}$\n",
    "\n",
    "Graetz eigenfunctions and eigenvalues are found from Brown (1960)"
   ]
  },
  {
   "cell_type": "markdown",
   "metadata": {},
   "source": [
    "The final result, in dimensionless form, is\n",
    "\n",
    "$\\frac{C-C_w}{C_{ao}-C_w}=\\sum_{n=1}^{\\infty} A_n' Gz_n(\\xi)$exp$(-\\lambda^2\\zeta)$\n",
    "\n",
    "when $A_n' =A_n/(C_{ao}-C_w)$ and the eigenvalues found from $Gz(1,\\lambda_n)=0$.\n",
    "This converges extremely slowly, so a large number of terms *MUST* be retained, especially for the enterence region."
   ]
  },
  {
   "cell_type": "markdown",
   "metadata": {
    "collapsed": true
   },
   "source": [
    "Eigenvalues can be calculated by $Gz_n(1,\\lambda_n)= 1-\\frac{\\lambda^2}{4} + \\frac{\\lambda^2}{16}(1+\\frac{\\lambda^2}{4})- ... = 0$ or\n",
    "\n",
    "$ 1 -\\frac{\\lambda^2}{2^2}+\\frac{\\lambda^2(2^2+\\lambda^2)}{4^2 2^2}-\\frac{\\lambda^4(4^2+2^2+\\lambda^2)}{6^2 4^2 2^2}+ \\frac{\\lambda^6(6^2+4^2+2^2+\\lambda^2)}{8^2 6^2 4^2 2^2}+...$"
   ]
  },
  {
   "cell_type": "markdown",
   "metadata": {},
   "source": [
    "---------"
   ]
  },
  {
   "cell_type": "markdown",
   "metadata": {},
   "source": [
    "We should check to see if axial diffusion can be safely ignored by calculating Peclet numbers,\n",
    "\n",
    "$Pe = Re Sc = u D_h / D$ \n",
    "\n",
    "where $u$ = mean velocity, $D_h$ = inside diameter of pipe, and $D$ = mass diffusivity to see if \n",
    "\n",
    "$\\frac{1}{Pe^2} << 1$"
   ]
  },
  {
   "cell_type": "code",
   "execution_count": 3,
   "metadata": {
    "collapsed": true
   },
   "outputs": [],
   "source": [
    "# add in our lambda values from Brown 1960\n",
    "lambda_n = np.array([2.7043644199,6.6790314493,10.6733795381,14.6710784627,18.6698718645,\n",
    "           22.6691433588,26.668661996,30.6683233409,34.6680738224,38.6678833469,\n",
    "           42.6677338055])"
   ]
  },
  {
   "cell_type": "code",
   "execution_count": 4,
   "metadata": {
    "collapsed": true
   },
   "outputs": [],
   "source": [
    "def Gz_terms(N, x, j):\n",
    "    \n",
    "    \"\"\"\n",
    "    N is the number of terms (N = 0 is only 1)\n",
    "    x is the nondimensional group for the radius, r/R\n",
    "    j is the eigenvalue\n",
    "    \"\"\"\n",
    "    \n",
    "    hello = 0 \n",
    "    \n",
    "    for i in range(1, N):\n",
    "        term = ((-1)**(i)) * (lambda_n[j]**(2*i-2)) * ((lambda_n[j]**2) + \n",
    "        sum((2*np.linspace(1, i-1, num = i-1))**2))/(np.prod((2*np.linspace(1, i , num = i))**2)) * x**(2*i)\n",
    "        hello += term\n",
    "        #print hello    \n",
    "        \n",
    "    final_term = 1 + hello\n",
    "    \n",
    "    return final_term\n",
    "\n",
    "#sum((2*np.linspace(1, i-1, num = i-1))**2) #THESE WORK\n",
    "#np.prod((2*np.linspace(1, i , num = i))**2) #THESE WORK"
   ]
  },
  {
   "cell_type": "code",
   "execution_count": 6,
   "metadata": {},
   "outputs": [
    {
     "name": "stdout",
     "output_type": "stream",
     "text": [
      "[1.4740835432513193, -0.7386110983251699, 0.44539449077641174, -0.25055639232351967, -0.0014498741064263075, -9.761740587703477e-07, -2.1932074139563147e-09, -1.1728717600913179e-11, -1.2044909800866463e-13, -2.056059268598374e-15, -5.269695086657007e-17]\n"
     ]
    }
   ],
   "source": [
    "#Integration function for the constant\n",
    "\n",
    "an = []\n",
    "\n",
    "n = 20 #Number of terms in the infinite sum\n",
    "\n",
    "for i in range(0, 11):\n",
    "    top = lambda xi: Gz_terms(n, xi, i) * xi * (1-xi**2)\n",
    "    bottom = lambda xi: (Gz_terms(n, xi, i)**2) * xi * (1-xi**2)\n",
    "    \n",
    "    value, error = integrate.quad(top, 0, 1)\n",
    "    value2, error = integrate.quad(bottom, 0, 1)\n",
    "    an.append(value/value2)\n",
    "    \n",
    "print an"
   ]
  },
  {
   "cell_type": "code",
   "execution_count": 31,
   "metadata": {},
   "outputs": [
    {
     "data": {
      "image/png": "[encoded data removed]",
      "text/plain": [
       "<Figure size 432x288 with 2 Axes>"
      ]
     },
     "metadata": {},
     "output_type": "display_data"
    }
   ],
   "source": [
    "#This cell is used for graphing, using the Gz_n function and the An integration constant\n",
    "\n",
    "m = 11 #number of eigenvalues\n",
    "\n",
    "#Set x = 0.5, r/R = 0.5:\n",
    "# y = np.linspace(0, 1, num = 51)\n",
    "# conc_final_y = 0\n",
    "\n",
    "# for i in range(0,m):\n",
    "#     conc_step_y = an[i] * Gz_terms(5, 0.5, i) * np.exp(-1*lambda_n[i] * y**2)\n",
    "#     conc_final_y += conc_step_y\n",
    "    \n",
    "# plt.plot(y, conc_final_y)\n",
    "# plt.xlabel(\"Non-Dimensional Group, y\")\n",
    "# plt.ylabel(\"Concentration Profile\")\n",
    "# plt.show()\n",
    "\n",
    "\n",
    "#Set y = 1, (Dz/vR**2) = 1\n",
    "# x = np.linspace(-1, 1, num = 101)\n",
    "# conc_final_x = 0\n",
    "\n",
    "\n",
    "# for i in range(0,m):\n",
    "#     conc_step_x = an[i] * Gz_terms(5, x, i) * np.exp(-1*lambda_n[i] * 1**2)\n",
    "#     conc_final_x += conc_step_x\n",
    "# print conc_final_x\n",
    "\n",
    "# plt.plot(x, conc_final_x)\n",
    "# plt.xlabel(\"Non-Dimensional Group, x\")\n",
    "# plt.ylabel(\"Concentration Profile\")\n",
    "# plt.show()\n",
    "\n",
    "fig = plt.figure()\n",
    "ax = fig.gca(projection='3d')\n",
    "ax.set_zlabel('Concentration')\n",
    "ax.set_title('Concentration at t = 0 at z = 0')\n",
    "\n",
    "x = np.arange(-1,1,0.1)\n",
    "y = np.arange(-1,1,0.1)\n",
    "x,y = np.meshgrid(x,y) \n",
    "R = np.sqrt(x ** 2 + y ** 2)\n",
    "\n",
    "z = an[0] * Gz_terms(5,R,0) * np.exp(-1*lambda_n[0] * R**2) +\\\n",
    "    an[1] * Gz_terms(5,R,1) * np.exp(-1*lambda_n[1] * R**2) +\\\n",
    "    an[2] * Gz_terms(5,R,2) * np.exp(-1*lambda_n[2] * R**2) +\\\n",
    "    an[3] * Gz_terms(5,R,3) * np.exp(-1*lambda_n[3] * R**2) +\\\n",
    "    an[4] * Gz_terms(5,R,4) * np.exp(-1*lambda_n[4] * R**2) +\\\n",
    "    an[5] * Gz_terms(5,R,5) * np.exp(-1*lambda_n[5] * R**2) +\\\n",
    "    an[6] * Gz_terms(5,R,6) * np.exp(-1*lambda_n[6] * R**2) +\\\n",
    "    an[7] * Gz_terms(5,R,7) * np.exp(-1*lambda_n[7] * R**2) +\\\n",
    "    an[8] * Gz_terms(5,R,8) * np.exp(-1*lambda_n[8] * R**2) +\\\n",
    "    an[9] * Gz_terms(5,R,9) * np.exp(-1*lambda_n[9] * R**2) +\\\n",
    "    an[10] * Gz_terms(5,R,10) * np.exp(-1*lambda_n[10] * R**2)\n",
    "# z = np.sin(R)\n",
    "    \n",
    "surf = ax.plot_surface(x, x, z, cmap=cm.coolwarm,linewidth=0, antialiased=False)\n",
    "\n",
    "# Customize the z axis.\n",
    "ax.set_zlim(0, 1)\n",
    "ax.zaxis.set_major_locator(LinearLocator(10))\n",
    "ax.zaxis.set_major_formatter(FormatStrFormatter('%.02f'))\n",
    "\n",
    "# Add a color bar which maps values to colors.\n",
    "fig.colorbar(surf, shrink=0.5, aspect=5)\n",
    "plt.show()\n"
   ]
  },
  {
   "cell_type": "code",
   "execution_count": null,
   "metadata": {},
   "outputs": [],
   "source": [
    "#This cell is used for comparing the total terms of Gz used (5 above)\n",
    "\n",
    "m = 11 #number of eigenvalues\n",
    "\n",
    "#Set x = 0.5, r/R = 0.5:\n",
    "y = np.linspace(0, 4, num = 51)\n",
    "conc_final_y = 0\n",
    "\n",
    "for i in range(0,m):\n",
    "    conc_step_y = an[i] * Gz_terms(94, 0.5, i) * np.exp(-1*lambda_n[i] * y**2)\n",
    "    conc_final_y += conc_step_y\n",
    "    \n",
    "plt.plot(y, conc_final_y)\n",
    "plt.xlabel(\"Dz/vR**2\")\n",
    "plt.ylabel(\"Concentration Profile\")\n",
    "plt.show()\n",
    "\n",
    "\n",
    "#Set y = 1, (Dz/vR**2) = 1\n",
    "x = np.linspace(0, 1, num = 51)\n",
    "conc_final_x = 0\n",
    "\n",
    "\n",
    "for i in range(0,m):\n",
    "    conc_step_x = an[i] * Gz_terms(94, x, i) * np.exp(-1*lambda_n[i] * 1**2)\n",
    "    conc_final_x += conc_step_x\n",
    "\n",
    "    \n",
    "plt.plot(x, conc_final_x)\n",
    "plt.xlabel(\"r/R\")\n",
    "plt.ylabel(\"Concentration Profile\")\n",
    "plt.show()"
   ]
  },
  {
   "cell_type": "code",
   "execution_count": null,
   "metadata": {},
   "outputs": [],
   "source": [
    "rTrypr=-0.1868*conc_final_x/(1.4353+conc_final_x)\n",
    "plt.plot(x, rTrypr)\n",
    "plt.title(\"tryp\")\n",
    "plt.xlabel(\"r/R\")\n",
    "plt.ylabel(\"rTryp\")\n",
    "plt.show()"
   ]
  },
  {
   "cell_type": "code",
   "execution_count": null,
   "metadata": {},
   "outputs": [],
   "source": [
    "rTrypz=-0.1868*conc_final_y/(1.4353+conc_final_y)\n",
    "plt.plot(y, rTrypz)\n",
    "plt.xlabel(\"z\")\n",
    "plt.ylabel(\"rTryp\")\n",
    "plt.show()"
   ]
  },
  {
   "cell_type": "code",
   "execution_count": null,
   "metadata": {},
   "outputs": [],
   "source": [
    "rhtpx = 0.1868*conc_final_x/(1.4353+conc_final_x) - 9.9770*conc_final_x/(2.3743+conc_final_x)\n",
    "plt.plot(x, rhtpx)\n",
    "plt.xlabel(\"r/R\")\n",
    "plt.ylabel(\"rHTP\")\n",
    "plt.show()"
   ]
  },
  {
   "cell_type": "code",
   "execution_count": null,
   "metadata": {},
   "outputs": [],
   "source": [
    "rhtpy = 0.1868*conc_final_y/(1.4353+conc_final_y) - 9.9770*conc_final_y/(2.3743+conc_final_y)\n",
    "plt.plot(y, rhtpy)\n",
    "plt.xlabel(\"z\")\n",
    "plt.ylabel(\"rHTP\")\n",
    "plt.show()"
   ]
  },
  {
   "cell_type": "code",
   "execution_count": null,
   "metadata": {
    "collapsed": true
   },
   "outputs": [],
   "source": []
  },
  {
   "cell_type": "code",
   "execution_count": null,
   "metadata": {},
   "outputs": [],
   "source": [
    "#3D Graph\n",
    "\n",
    "import mpl_toolkits.mplot3d.axes3d as p3\n",
    "import pylab as p\n",
    "\n",
    "m = 11 #number of eigenvalues\n",
    "\n",
    "y = np.linspace(0, 0.1, num = 51)\n",
    "x = np.linspace(0, 1, num = 51)\n",
    "\n",
    "\n",
    "conc_final = 0\n",
    "\n",
    "for i in range(0, m):\n",
    "    conc_step = an[i] * Gz_terms(5, x, i) * np.exp(-1*lambda_n[i] * y**2)\n",
    "    conc_final += conc_step\n",
    "    \n",
    "    #print conc_final\n",
    "        \n",
    "#fig=p.figure()\n",
    "#ax = p3.Axes3D(fig)        \n",
    "#ax.plot_surface(x, y, conc_final)"
   ]
  },
  {
   "cell_type": "code",
   "execution_count": null,
   "metadata": {
    "collapsed": true
   },
   "outputs": [],
   "source": [
    "trypConditionList = [(.1,5.386e-8,6.44e-4),(.5,5.386e-8,6.44e-4),(1,5.386e-8,6.44e-4)] #Concentration, Diffusivity, Permeability\n",
    "#find and comment in units\n",
    "radius = 2.5/2/100\n",
    "length = 7.5\n",
    "max_velocity = .0287/60\n",
    "timestep = 20/3600\n",
    "rings = 20\n",
    "sections = 500"
   ]
  },
  {
   "cell_type": "code",
   "execution_count": null,
   "metadata": {
    "collapsed": true
   },
   "outputs": [],
   "source": [
    "conc, D, _ = condition = trypConditionList[-1]"
   ]
  },
  {
   "cell_type": "code",
   "execution_count": null,
   "metadata": {
    "collapsed": true
   },
   "outputs": [],
   "source": [
    "intset = np.zeros([500, 20])"
   ]
  },
  {
   "cell_type": "code",
   "execution_count": null,
   "metadata": {},
   "outputs": [],
   "source": [
    "intset[0] = conc\n",
    "intset[0]"
   ]
  },
  {
   "cell_type": "code",
   "execution_count": null,
   "metadata": {
    "collapsed": true
   },
   "outputs": [],
   "source": []
  },
  {
   "cell_type": "code",
   "execution_count": null,
   "metadata": {
    "collapsed": true
   },
   "outputs": [],
   "source": []
  },
  {
   "cell_type": "code",
   "execution_count": null,
   "metadata": {
    "collapsed": true
   },
   "outputs": [],
   "source": []
  }
 ],
 "metadata": {
  "kernelspec": {
   "display_name": "Python 2",
   "language": "python",
   "name": "python2"
  },
  "language_info": {
   "codemirror_mode": {
    "name": "ipython",
    "version": 2
   },
   "file_extension": ".py",
   "mimetype": "text/x-python",
   "name": "python",
   "nbconvert_exporter": "python",
   "pygments_lexer": "ipython2",
   "version": "2.7.14"
  }
 },
 "nbformat": 4,
 "nbformat_minor": 2
}
