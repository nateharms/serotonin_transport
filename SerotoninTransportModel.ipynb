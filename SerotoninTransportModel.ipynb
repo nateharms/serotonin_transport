{
 "cells": [
  {
   "cell_type": "markdown",
   "metadata": {},
   "source": [
    "Jason Cain, Nathan Harms, Marissa Puzan\n",
    "## Serotonin transport modeling \n"
   ]
  },
  {
   "cell_type": "markdown",
   "metadata": {},
   "source": [
    "Laminar flow model:\n",
    "\n",
    "## $$ \\frac{C_m}{C_o} = \\sum_{n} M_n e^{- \\beta^2 Gz} $$"
   ]
  },
  {
   "cell_type": "markdown",
   "metadata": {},
   "source": [
    "\n",
    "\n",
    "from\n",
    "$$v_z \\frac{\\partial C}{\\partial z} = D \\frac{1}{r} \\frac{\\partial}{\\partial r} \\left( r \\frac{\\partial C}{\\partial r} \\right)$$\n",
    "where \n",
    "\n",
    "$$ Gz = \\frac{D L}{V_m R^2} $$\n",
    "\n",
    "$$ P_w^* = P_w \\left( \\frac{R}{D} \\right) $$\n",
    "\n",
    "$$ M_n = f( P_w^* ) $$ \n",
    "\n",
    "$$ \\beta = f( P_w^* ) $$ "
   ]
  },
  {
   "cell_type": "code",
   "execution_count": 1,
   "metadata": {
    "collapsed": true
   },
   "outputs": [],
   "source": [
    "import numpy as np\n",
    "%matplotlib inline\n",
    "from matplotlib import pyplot as plt\n",
    "from collections import namedtuple"
   ]
  },
  {
   "cell_type": "code",
   "execution_count": 2,
   "metadata": {
    "collapsed": false
   },
   "outputs": [],
   "source": [
    "import laminarFlow\n"
   ]
  },
  {
   "cell_type": "code",
   "execution_count": 3,
   "metadata": {
    "collapsed": false
   },
   "outputs": [],
   "source": [
    "ConditionSet = namedtuple('ConditionSet', ['Concentration', 'Diffusivity', 'Permeability'])\n",
    "KineticsParamers = namedtuple('ConditionSet', ['vmax1', 'Km1', 'K1', 'vmax2', 'Km2', 'K2'])\n",
    "\n",
    "\n",
    "serCondition = ConditionSet(\n",
    "                Concentration = .1,\n",
    "                Diffusivity = 6.2424e-8,\n",
    "                Permeability =7.576e-13)\n",
    "\n",
    "trypCondition = ConditionSet(\n",
    "                Concentration = .1,\n",
    "                Diffusivity = 5.386e-8,\n",
    "                Permeability = 6.44e-4)\n",
    "\n",
    "kinetics = KineticsParamers(vmax1 = 0.1868167,\n",
    "                            Km1 = 1.43533284,\n",
    "                            K1 = 0.43680929,\n",
    "                            vmax2 = 9.97704964,\n",
    "                            Km2 = 2.37430847,\n",
    "                            K2 = 0.25340153)\n",
    "\n",
    "radius = 1./12\n",
    "length = 25\n",
    "max_velocity = 5\n",
    "iterations = 1000\n"
   ]
  },
  {
   "cell_type": "code",
   "execution_count": 4,
   "metadata": {
    "collapsed": false,
    "scrolled": true
   },
   "outputs": [],
   "source": [
    "Model = laminarFlow.LaminarFlow(length, radius, max_velocity, serCondition, trypCondition, kinetics, iterations)"
   ]
  },
  {
   "cell_type": "code",
   "execution_count": 5,
   "metadata": {
    "collapsed": false
   },
   "outputs": [
    {
     "data": {
      "text/plain": [
       "[<matplotlib.lines.Line2D at 0x10e3106a0>]"
      ]
     },
     "execution_count": 5,
     "metadata": {},
     "output_type": "execute_result"
    },
    {
     "data": {
      "image/png": "[encoded data removed]",
      "text/plain": [
       "<matplotlib.figure.Figure at 0x10bfbedd8>"
      ]
     },
     "metadata": {},
     "output_type": "display_data"
    }
   ],
   "source": [
    "plt.plot(Model.serConcentration)"
   ]
  },
  {
   "cell_type": "code",
   "execution_count": 6,
   "metadata": {
    "collapsed": false,
    "scrolled": true
   },
   "outputs": [],
   "source": [
    "from SALib.sample.saltelli import sample as ss\n",
    "from SALib.analyze.sobol import analyze as sa\n"
   ]
  },
  {
   "cell_type": "code",
   "execution_count": 7,
   "metadata": {
    "collapsed": true
   },
   "outputs": [],
   "source": [
    "def laminarModel(data):\n",
    "    serCondition = ConditionSet(\n",
    "                Concentration = data[3],\n",
    "                Diffusivity = data[4],\n",
    "                Permeability = data[5])\n",
    "\n",
    "    trypCondition = ConditionSet(\n",
    "                Concentration = data[6],\n",
    "                Diffusivity = data[7],\n",
    "                Permeability = data[8])\n",
    "\n",
    "    \n",
    "    kinetics = KineticsParamers(vmax1 = data[9],\n",
    "                            Km1 = data[10],\n",
    "                            K1 = data[11],\n",
    "                            vmax2 = data[12],\n",
    "                            Km2 = data[13],\n",
    "                            K2 = data[14])\n",
    "\n",
    "    \n",
    "    iterations = 1000\n",
    "    \n",
    "    Model = laminarFlow.LaminarFlow(data[0],data[1],data[2],serCondition)"
   ]
  },
  {
   "cell_type": "code",
   "execution_count": 8,
   "metadata": {
    "collapsed": false
   },
   "outputs": [
    {
     "ename": "SyntaxError",
     "evalue": "invalid syntax (<ipython-input-8-9da1434ad5f9>, line 10)",
     "output_type": "error",
     "traceback": [
      "\u001b[0;36m  File \u001b[0;32m\"<ipython-input-8-9da1434ad5f9>\"\u001b[0;36m, line \u001b[0;32m10\u001b[0m\n\u001b[0;31m    'bounds': [[,], # length (m)\u001b[0m\n\u001b[0m                ^\u001b[0m\n\u001b[0;31mSyntaxError\u001b[0m\u001b[0;31m:\u001b[0m invalid syntax\n"
     ]
    }
   ],
   "source": [
    "\n",
    "\n",
    "morris_problem = {\n",
    "    # There are six variables\n",
    "    'num_vars': 15,\n",
    "    # These are their names\n",
    "    'names': ['length', 'radius', 'max_velocity', 'serConc', 'serDiff', \n",
    "              'serPerm', 'tryConc', 'tryDiff', 'tryPerm','vmax1', 'Km1', 'K1', 'vmax2', 'Km2', 'K2'],\n",
    "    # These are their plausible ranges over which we'll move the variables\n",
    "    'bounds': [[,], # length (m)\n",
    "               [,], # radius (m)\n",
    "               [,], # max_velocity (m/s)\n",
    "               [,], # Serotonin Concentration (mM)\n",
    "               [,], # Serotonin Diffusivity \n",
    "               [,], # Serotonin Wall Permeability \n",
    "               [,], # Tryptophan Concentration\n",
    "               [,], # Tryptophan Diffusivity\n",
    "               [,], # Tryptophan Wall Permability\n",
    "               [,], # Max rate of Tryp -> 5HTP\n",
    "               [,], # Michaelus Menton Constant Tryp -> 5HTP\n",
    "               [,], # Equilibrium Constant for 5HTP and Tryp\n",
    "               [,], # Max rate of 5HTP -> Serotonin\n",
    "               [,], # Michaelus Menton Constant 5HTP -> Serotonin\n",
    "               [,], # Equilibrium Constant for 5HTP and Serotonin\n",
    "              ],\n",
    "    # I don't want to group any of these variables together\n",
    "    'groups': None\n",
    "    }"
   ]
  }
 ],
 "metadata": {
  "anaconda-cloud": {},
  "kernelspec": {
   "display_name": "Python [conda env:py3]",
   "language": "python",
   "name": "conda-env-py3-py"
  },
  "language_info": {
   "codemirror_mode": {
    "name": "ipython",
    "version": 3
   },
   "file_extension": ".py",
   "mimetype": "text/x-python",
   "name": "python",
   "nbconvert_exporter": "python",
   "pygments_lexer": "ipython3",
   "version": "3.5.2"
  }
 },
 "nbformat": 4,
 "nbformat_minor": 1
}
