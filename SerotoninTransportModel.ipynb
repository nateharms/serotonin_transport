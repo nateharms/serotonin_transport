{
 "cells": [
  {
   "cell_type": "markdown",
   "metadata": {},
   "source": [
    "Jason Cain, Nathan Harms, Marissa Puzan\n",
    "## Serotonin transport modeling \n"
   ]
  },
  {
   "cell_type": "markdown",
   "metadata": {},
   "source": [
    "Laminar flow model:\n",
    "\n",
    "## $$ \\frac{C_m}{C_o} = \\sum_{n} M_n e^{- \\beta^2 Gz} $$"
   ]
  },
  {
   "cell_type": "markdown",
   "metadata": {},
   "source": [
    "\n",
    "\n",
    "from\n",
    "$$v_z \\frac{\\partial C}{\\partial z} = D \\frac{1}{r} \\frac{\\partial}{\\partial r} \\left( r \\frac{\\partial C}{\\partial r} \\right)$$\n",
    "where \n",
    "\n",
    "$$ Gz = \\frac{D L}{V_m R^2} $$\n",
    "\n",
    "$$ P_w^* = P_w \\left( \\frac{R}{D} \\right) $$\n",
    "\n",
    "$$ M_n = f( P_w^* ) $$ \n",
    "\n",
    "$$ \\beta = f( P_w^* ) $$ "
   ]
  },
  {
   "cell_type": "code",
   "execution_count": 2,
   "metadata": {
    "collapsed": true
   },
   "outputs": [],
   "source": [
    "import numpy as np\n",
    "%matplotlib inline\n",
    "from matplotlib import pyplot as plt"
   ]
  },
  {
   "cell_type": "code",
   "execution_count": 3,
   "metadata": {
    "collapsed": true
   },
   "outputs": [],
   "source": [
    "import laminarFlow"
   ]
  },
  {
   "cell_type": "markdown",
   "metadata": {},
   "source": [
    "Arguments for LaminarFlow(self, n, serConcentration, serGraetz, effSerPermeability, M_Beta_file = 'valuesBetaM.txt'):"
   ]
  },
  {
   "cell_type": "code",
   "execution_count": null,
   "metadata": {
    "collapsed": true
   },
   "outputs": [],
   "source": []
  }
 ],
 "metadata": {
  "anaconda-cloud": {},
  "kernelspec": {
   "display_name": "Python [conda env:py3]",
   "language": "python",
   "name": "conda-env-py3-py"
  },
  "language_info": {
   "codemirror_mode": {
    "name": "ipython",
    "version": 3
   },
   "file_extension": ".py",
   "mimetype": "text/x-python",
   "name": "python",
   "nbconvert_exporter": "python",
   "pygments_lexer": "ipython3",
   "version": "3.5.2"
  }
 },
 "nbformat": 4,
 "nbformat_minor": 1
}
