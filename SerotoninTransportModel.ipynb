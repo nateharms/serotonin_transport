{
 "cells": [
  {
   "cell_type": "markdown",
   "metadata": {},
   "source": [
    "Jason Cain, Nathan Harms, Marissa Puzan\n",
    "## Serotonin transport modeling \n"
   ]
  },
  {
   "cell_type": "markdown",
   "metadata": {},
   "source": []
  },
  {
   "cell_type": "markdown",
   "metadata": {},
   "source": [
    "\n",
    "\n",
    "from\n",
    "$$v_z \\frac{\\partial C}{\\partial z} = D \\frac{1}{r} \\frac{\\partial}{\\partial r} \\left( r \\frac{\\partial C}{\\partial r} \\right)$$\n",
    "where \n",
    "\n",
    "$$ Gz = \\frac{D L}{V_m R^2} $$\n",
    "\n",
    "$$ P_w^* = P_w \\left( \\frac{R}{D} \\right) $$\n",
    "\n",
    "$$ M_n = f( P_w^* ) $$ \n",
    "\n",
    "$$ \\beta = f( P_w^* ) $$ "
   ]
  },
  {
   "cell_type": "code",
   "execution_count": 1,
   "metadata": {
    "collapsed": true
   },
   "outputs": [],
   "source": [
    "import numpy as np\n",
    "%matplotlib inline\n",
    "from matplotlib import pyplot as plt\n",
    "from collections import namedtuple"
   ]
  },
  {
   "cell_type": "code",
   "execution_count": null,
   "metadata": {
    "collapsed": false
   },
   "outputs": [],
   "source": [
    "import new\n"
   ]
  },
  {
   "cell_type": "code",
   "execution_count": null,
   "metadata": {
    "collapsed": false,
    "scrolled": false
   },
   "outputs": [
    {
     "name": "stdout",
     "output_type": "stream",
     "text": [
      "Times array is 784\n"
     ]
    }
   ],
   "source": [
    "\n",
    "ConditionSet = namedtuple('ConditionSet', ['Concentration', 'Diffusivity', 'Permeability'])\n",
    "KineticsParamers = namedtuple('ConditionSet', ['vmax1', 'Km1', 'K1', 'vmax2', 'Km2', 'K2'])\n",
    "\n",
    "\n",
    "serCondition = ConditionSet(\n",
    "                Concentration = 2,\n",
    "                Diffusivity = 6.2424e-8,\n",
    "                Permeability =7.576e-13)\n",
    "\n",
    "trypCondition = ConditionSet(\n",
    "                Concentration = .1,\n",
    "                Diffusivity = 5.386e-8,\n",
    "                Permeability = 6.44e-4)\n",
    "\n",
    "htpCondition = ConditionSet(\n",
    "                Concentration = 0,\n",
    "                Diffusivity = 4.995e-8,\n",
    "                Permeability = 7.576e-13)\n",
    "\n",
    "kinetics = KineticsParamers(vmax1 = 0.1868167,\n",
    "                            Km1 = 1.43533284,\n",
    "                            K1 = 0.43680929,\n",
    "                            vmax2 = 9.97704964,\n",
    "                            Km2 = 2.37430847,\n",
    "                            K2 = 0.25340153)\n",
    "\n",
    "wallKinetics = KineticsParamers(vmax1 = 7.56e-14,\n",
    "                            Km1 = 0.6e-3,\n",
    "                            K1 = 1,\n",
    "                            vmax2 = 7.14,\n",
    "                            Km2 = 119,\n",
    "                            K2 = 1)\n",
    "\n",
    "# kinetics = KineticsParamers(vmax1 = 0,\n",
    "#                             Km1 = 1,\n",
    "#                             K1 = 1,\n",
    "#                             vmax2 = 0,\n",
    "#                             Km2 = 1,\n",
    "#                             K2 = 1)\n",
    "\n",
    "# wallKinetics = KineticsParamers(vmax1 = 0,\n",
    "#                             Km1 = 1,\n",
    "#                             K1 = 1,\n",
    "#                             vmax2 = 0,\n",
    "#                             Km2 = 1,\n",
    "#                             K2 = 1)\n",
    "\n",
    "radius = 2.5/2/100\n",
    "length = 7.5\n",
    "max_velocity = .0287/60\n",
    "timestep = 20/3600\n",
    "rings = 20\n",
    "sections = 500\n",
    "\n",
    "Model = new.LaminarFlow(length, radius, max_velocity, trypCondition, htpCondition, serCondition, kinetics, wallKinetics, rings, sections, timestep)"
   ]
  },
  {
   "cell_type": "code",
   "execution_count": null,
   "metadata": {
    "collapsed": false
   },
   "outputs": [],
   "source": [
    "results = Model.results.reshape(-1,3,rings,sections)\n",
    "\n",
    "print(results.shape)\n",
    "\n",
    "serotonin = results[:,2,:,:]\n",
    "tryptophan = results[:,0,:,:]\n",
    "htp = results[:,1,:,:]\n",
    "\n"
   ]
  },
  {
   "cell_type": "code",
   "execution_count": null,
   "metadata": {
    "collapsed": false
   },
   "outputs": [],
   "source": [
    "# serotoninUptake = np.array(Model.serotoninUptake)"
   ]
  },
  {
   "cell_type": "code",
   "execution_count": null,
   "metadata": {
    "collapsed": false
   },
   "outputs": [],
   "source": [
    "# plt.plot(serotoninUptake)"
   ]
  },
  {
   "cell_type": "code",
   "execution_count": null,
   "metadata": {
    "collapsed": false
   },
   "outputs": [],
   "source": [
    "from matplotlib import animation\n",
    "import matplotlib\n",
    "import seaborn as sns\n",
    "\n",
    "\n",
    "matplotlib.rc('animation', html='html5')\n",
    "fig = plt.figure()\n",
    "ax1 = plt.subplot(211)\n",
    "ax2 = plt.subplot(212)\n",
    "timestamp = fig.text(0.45,0.1,'timestamp')\n",
    "frames = 100\n",
    "def animate(i):\n",
    "    step = i * len(serotonin[:,0,0])//(frames)\n",
    "    serotonin_g = serotonin[i,:,:50]\n",
    "    tryp_g = tryptophan[i,:,:50]\n",
    "    sns.heatmap(serotonin_g, vmin=0,vmax=1e-8, ax=ax1, cbar = None)\n",
    "    ax1.set_title('Serotonin')\n",
    "    sns.heatmap(tryp_g, vmin=0,vmax=1e-8, ax=ax2, cbar=None)\n",
    "    ax2.set_title('Tryptophan')\n",
    "    timestamp.set_text('t={0:.0f} hours'.format(Model.times[i]/3600))\n",
    "    plt.tight_layout()\n",
    "    \n",
    "anim = animation.FuncAnimation(fig, animate, frames=frames, repeat_delay=2000, repeat=True)\n",
    "anim"
   ]
  },
  {
   "cell_type": "code",
   "execution_count": null,
   "metadata": {
    "collapsed": false,
    "scrolled": true
   },
   "outputs": [],
   "source": [
    "from SALib.sample.saltelli import sample as ss\n",
    "from SALib.analyze.sobol import analyze as sa\n"
   ]
  },
  {
   "cell_type": "code",
   "execution_count": null,
   "metadata": {
    "collapsed": true
   },
   "outputs": [],
   "source": [
    "def laminarModel(data):\n",
    "    trypCondition = ConditionSet(\n",
    "                Concentration = data[3],\n",
    "                Diffusivity = data[4],\n",
    "                Permeability = data[5])\n",
    "\n",
    "    htpCondition = ConditionSet(\n",
    "                Concentration = data[6],\n",
    "                Diffusivity = data[7],\n",
    "                Permeability = data[8])\n",
    "\n",
    "    serCondition = ConditionSet(\n",
    "                Concentration = data[9],\n",
    "                Diffusivity = data[10],\n",
    "                Permeability = data[11])\n",
    "    \n",
    "    kinetics = KineticsParamers(vmax1 = data[12],\n",
    "                            Km1 = data[13],\n",
    "                            K1 = data[14],\n",
    "                            vmax2 = data[15],\n",
    "                            Km2 = data[16],\n",
    "                            K2 = data[17])\n",
    "    \n",
    "    wallKinetics = KineticsParamers(vmax1 = data[18],\n",
    "                            Km1 = data[19],\n",
    "                            K1 = data[20],\n",
    "                            vmax2 = data[21],\n",
    "                            Km2 = data[22],\n",
    "                            K2 = data[23])\n",
    "    \n",
    "    rings = 20\n",
    "    sections = 500\n",
    "    \n",
    "    Model = laminarFlow.LaminarFlow(data[0],data[1],data[2],\n",
    "                                    trypCondition, htpCondition, serCondition, \n",
    "                                    kinetics, wallKinetics, \n",
    "                                    rings, sections)"
   ]
  },
  {
   "cell_type": "code",
   "execution_count": null,
   "metadata": {
    "collapsed": false
   },
   "outputs": [],
   "source": [
    "\n",
    "\n",
    "# morris_problem = {\n",
    "#     # There are six variables\n",
    "#     'num_vars': 23,\n",
    "#     # These are their names\n",
    "#     'names': ['length', 'radius', 'max_velocity', 'serConc', 'serDiff', \n",
    "#               'serPerm', 'tryConc', 'tryDiff', 'tryPerm','vmax1', 'Km1', 'K1', 'vmax2', 'Km2', 'K2'],\n",
    "#     # These are their plausible ranges over which we'll move the variables\n",
    "#     'bounds': [[,], # length (m)\n",
    "#                [,], # radius (m)\n",
    "#                [,], # max_velocity (m/s)\n",
    "#                [,], # Tryptophan Concentration\n",
    "#                [,], # Tryptophan Diffusivity\n",
    "#                [,], # Tryptophan Wall Permabilityhttp://localhost:8888/notebooks/SerotoninTransportModel.ipynb#\n",
    "#                [,], # 5HTP Concentration\n",
    "#                [,], # 5HTP Diffusivity\n",
    "#                [,], # 5HTP Wall Permability\n",
    "#                [,], # Serotonin Concentration (mM)\n",
    "#                [,], # Serotonin Diffusivity \n",
    "#                [,], # Serotonin Wall Permeability \n",
    "#                [,], # Max rate of Tryp -> 5HTP\n",
    "#                [,], # Michaelus Menton Constant Tryp -> 5HTP\n",
    "#                [,], # Equilibrium Constant for 5HTP and Tryp\n",
    "#                [,], # Max rate of 5HTP -> Serotonin\n",
    "#                [,], # Michaelus Menton Constant 5HTP -> Serotonin\n",
    "#                [,], # Equilibrium Constant for 5HTP and Serotonin\n",
    "#                [,], # Max wall rate of Tryp -> 5HTP\n",
    "#                [,], # Michaelus Menton Constant @ wall Tryp -> 5HTP\n",
    "#                [,], # Equilibrium Constant for 5HTP and Tryp @ wall\n",
    "#                [,], # Max rate of 5HTP -> Serotonin @ wall\n",
    "#                [,], # Michaelus Menton Constant 5HTP -> Serotonin @ wall\n",
    "#                [,], # Equilibrium Constant for 5HTP and Serotonin @ wall\n",
    "\n",
    "#               ],\n",
    "#     # I don't want to group any of these variables together\n",
    "#     'groups': None\n",
    "#     }"
   ]
  }
 ],
 "metadata": {
  "anaconda-cloud": {},
  "kernelspec": {
   "display_name": "Python [conda env:py3]",
   "language": "python",
   "name": "conda-env-py3-py"
  },
  "language_info": {
   "codemirror_mode": {
    "name": "ipython",
    "version": 3
   },
   "file_extension": ".py",
   "mimetype": "text/x-python",
   "name": "python",
   "nbconvert_exporter": "python",
   "pygments_lexer": "ipython3",
   "version": "3.5.2"
  }
 },
 "nbformat": 4,
 "nbformat_minor": 1
}
