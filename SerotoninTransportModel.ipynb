{
 "cells": [
  {
   "cell_type": "markdown",
   "metadata": {},
   "source": [
    "Jason Cain, Nathan Harms, Marissa Puzan\n",
    "## Serotonin transport modeling \n"
   ]
  },
  {
   "cell_type": "markdown",
   "metadata": {},
   "source": [
    "Laminar flow model:\n",
    "\n",
    "## $$ \\frac{C_m}{C_o} = \\sum_{n} M_n e^{- \\beta^2 Gz} $$"
   ]
  },
  {
   "cell_type": "markdown",
   "metadata": {},
   "source": [
    "\n",
    "\n",
    "from\n",
    "$$v_z \\frac{\\partial C}{\\partial z} = D \\frac{1}{r} \\frac{\\partial}{\\partial r} \\left( r \\frac{\\partial C}{\\partial r} \\right)$$\n",
    "where \n",
    "\n",
    "$$ Gz = \\frac{D L}{V_m R^2} $$\n",
    "\n",
    "$$ P_w^* = P_w \\left( \\frac{R}{D} \\right) $$\n",
    "\n",
    "$$ M_n = f( P_w^* ) $$ \n",
    "\n",
    "$$ \\beta = f( P_w^* ) $$ "
   ]
  },
  {
   "cell_type": "code",
   "execution_count": 1,
   "metadata": {
    "collapsed": true
   },
   "outputs": [],
   "source": [
    "import numpy as np\n",
    "%matplotlib inline\n",
    "from matplotlib import pyplot as plt\n",
    "from collections import namedtuple"
   ]
  },
  {
   "cell_type": "code",
   "execution_count": 2,
   "metadata": {
    "collapsed": true
   },
   "outputs": [],
   "source": [
    "import laminarFlow"
   ]
  },
  {
   "cell_type": "code",
   "execution_count": 3,
   "metadata": {
    "collapsed": false
   },
   "outputs": [],
   "source": [
    "ConditionSet = namedtuple('ConditionSet', ['Concentration', 'Diffusivity', 'Permeability'])\n",
    "\n",
    "serCondition = ConditionSet(\n",
    "                Concentration = .1,\n",
    "                Diffusivity = 6.2424e-8,\n",
    "                Permeability =7.576e-13)\n",
    "\n",
    "trypCondition = ConditionSet(\n",
    "                Concentration = .1,\n",
    "                Diffusivity = 5.386e-8,\n",
    "                Permeability = 6.44e-4)\n",
    "\n",
    "radius = 1./12\n",
    "length = 25\n",
    "max_velocity = 5\n",
    "iterations = 200\n"
   ]
  },
  {
   "cell_type": "code",
   "execution_count": 4,
   "metadata": {
    "collapsed": false,
    "scrolled": true
   },
   "outputs": [
    {
     "name": "stdout",
     "output_type": "stream",
     "text": [
      "[  1.00000000e-04   1.00000000e-02   1.00000000e-01   2.50000000e-01\n",
      "   5.00000000e-01   7.50000000e-01   1.00000000e+00   2.00000000e+00\n",
      "   4.00000000e+00   6.00000000e+00   8.00000000e+00   1.00000000e+01\n",
      "   2.50000000e+01   5.00000000e+01   7.50000000e+01   1.00000000e+02\n",
      "   1.00000000e+03   1.00000000e+04]\n",
      "[  1.00000000e-04   1.00000000e-02   1.00000000e-01   2.50000000e-01\n",
      "   5.00000000e-01   7.50000000e-01   1.00000000e+00   2.00000000e+00\n",
      "   4.00000000e+00   6.00000000e+00   8.00000000e+00   1.00000000e+01\n",
      "   2.50000000e+01   5.00000000e+01   7.50000000e+01   1.00000000e+02\n",
      "   1.00000000e+03   1.00000000e+04]\n"
     ]
    }
   ],
   "source": [
    "Model = laminarFlow.LaminarFlow(length, radius, serCondition, trypCondition, iterations)"
   ]
  },
  {
   "cell_type": "code",
   "execution_count": 5,
   "metadata": {
    "collapsed": false
   },
   "outputs": [
    {
     "data": {
      "text/plain": [
       "[<matplotlib.lines.Line2D at 0x10e41e9e8>]"
      ]
     },
     "execution_count": 5,
     "metadata": {},
     "output_type": "execute_result"
    },
    {
     "data": {
      "image/png": "[encoded data removed]",
      "text/plain": [
       "<matplotlib.figure.Figure at 0x10599b7b8>"
      ]
     },
     "metadata": {},
     "output_type": "display_data"
    }
   ],
   "source": [
    "plt.plot(Model.serConcentration)"
   ]
  },
  {
   "cell_type": "code",
   "execution_count": 7,
   "metadata": {
    "collapsed": false,
    "scrolled": true
   },
   "outputs": [],
   "source": [
    "from SALib.sample.saltelli import sample as ss\n",
    "from SALib.analyze.sobol import analyze as sa\n"
   ]
  },
  {
   "cell_type": "code",
   "execution_count": null,
   "metadata": {
    "collapsed": true
   },
   "outputs": [],
   "source": [
    "def laminarModel(data):\n",
    "    serCondition = ConditionSet(\n",
    "                Concentration = .1,\n",
    "                Diffusivity = 6.2424e-8,\n",
    "                Permeability =7.576e-13)\n",
    "\n",
    "    trypCondition = ConditionSet(\n",
    "                Concentration = .1,\n",
    "                Diffusivity = 5.386e-8,\n",
    "                Permeability = 6.44e-4)\n",
    "\n",
    "    radius = 1./12\n",
    "    length = 25\n",
    "    max_velocity = 5\n",
    "    iterations = 200\n"
   ]
  },
  {
   "cell_type": "code",
   "execution_count": null,
   "metadata": {
    "collapsed": true
   },
   "outputs": [],
   "source": [
    "morris_problem = {\n",
    "    # There are six variables\n",
    "    'num_vars': 6,\n",
    "    # These are their names\n",
    "    'names': ['conn', 'batt', 'dist', 'range', 'dri_eff', 'inv_eff', 'dispatch_time'],\n",
    "    # These are their plausible ranges over which we'll move the variables\n",
    "    'bounds': [[2.3, 22], # connection_power (kW)\n",
    "               [50, 100], # battery size (kWh)\n",
    "               [0, 80], # distance driven (km)\n",
    "               [0, 80], # range buffer (km)\n",
    "               [4,5.5], # driving efficiency (kWh/km)\n",
    "               [0.87,0.97], # inverter efficienct (%)\n",
    "               [0.5, 24] # dispatch time - hours of the day in which the energy is dispatched\n",
    "              ],\n",
    "    # I don't want to group any of these variables together\n",
    "    'groups': None\n",
    "    }"
   ]
  }
 ],
 "metadata": {
  "anaconda-cloud": {},
  "kernelspec": {
   "display_name": "Python [conda env:py3]",
   "language": "python",
   "name": "conda-env-py3-py"
  },
  "language_info": {
   "codemirror_mode": {
    "name": "ipython",
    "version": 3
   },
   "file_extension": ".py",
   "mimetype": "text/x-python",
   "name": "python",
   "nbconvert_exporter": "python",
   "pygments_lexer": "ipython3",
   "version": "3.5.2"
  }
 },
 "nbformat": 4,
 "nbformat_minor": 1
}
