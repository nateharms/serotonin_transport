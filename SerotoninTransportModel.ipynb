{
 "cells": [
  {
   "cell_type": "markdown",
   "metadata": {},
   "source": [
    "Jason Cain, Nathan Harms, Marissa Puzan\n",
    "## Serotonin transport modeling \n"
   ]
  },
  {
   "cell_type": "markdown",
   "metadata": {},
   "source": [
    "Laminar flow model:\n",
    "\n",
    "## $$ \\frac{C_m}{C_o} = \\sum_{n} M_n e^{- \\beta^2 Gz} $$"
   ]
  },
  {
   "cell_type": "markdown",
   "metadata": {},
   "source": [
    "\n",
    "\n",
    "from\n",
    "$$v_z \\frac{\\partial C}{\\partial z} = D \\frac{1}{r} \\frac{\\partial}{\\partial r} \\left( r \\frac{\\partial C}{\\partial r} \\right)$$\n",
    "where \n",
    "\n",
    "$$ Gz = \\frac{D L}{V_m R^2} $$\n",
    "\n",
    "$$ P_w^* = P_w \\left( \\frac{R}{D} \\right) $$\n",
    "\n",
    "$$ M_n = f( P_w^* ) $$ \n",
    "\n",
    "$$ \\beta = f( P_w^* ) $$ "
   ]
  },
  {
   "cell_type": "code",
   "execution_count": 1,
   "metadata": {
    "collapsed": true
   },
   "outputs": [],
   "source": [
    "import numpy as np\n",
    "%matplotlib inline\n",
    "from matplotlib import pyplot as plt"
   ]
  },
  {
   "cell_type": "code",
   "execution_count": 2,
   "metadata": {
    "collapsed": true
   },
   "outputs": [],
   "source": [
    "import laminarFlow"
   ]
  },
  {
   "cell_type": "markdown",
   "metadata": {},
   "source": [
    "Arguments for LaminarFlow(self, n, serConcentration, serGraetz, effSerPermeability, M_Beta_file = 'valuesBetaM.txt'):"
   ]
  },
  {
   "cell_type": "code",
   "execution_count": 3,
   "metadata": {
    "collapsed": false
   },
   "outputs": [
    {
     "name": "stdout",
     "output_type": "stream",
     "text": [
      "[  1.00000000e-04   1.00000000e-02   1.00000000e-01   2.50000000e-01\n",
      "   5.00000000e-01   7.50000000e-01   1.00000000e+00   2.00000000e+00\n",
      "   4.00000000e+00   6.00000000e+00   8.00000000e+00   1.00000000e+01\n",
      "   2.50000000e+01   5.00000000e+01   7.50000000e+01   1.00000000e+02\n",
      "   1.00000000e+03   1.00000000e+04]\n"
     ]
    }
   ],
   "source": [
    "Model = laminarFlow.LaminarFlow(10, .1, .2, .1)"
   ]
  },
  {
   "cell_type": "code",
   "execution_count": 4,
   "metadata": {
    "collapsed": false
   },
   "outputs": [
    {
     "data": {
      "text/plain": [
       "[<matplotlib.lines.Line2D at 0x10e1c0208>]"
      ]
     },
     "execution_count": 4,
     "metadata": {},
     "output_type": "execute_result"
    },
    {
     "data": {
      "image/png": "[encoded data removed]",
      "text/plain": [
       "<matplotlib.figure.Figure at 0x10be53518>"
      ]
     },
     "metadata": {},
     "output_type": "display_data"
    }
   ],
   "source": [
    "plt.plot(Model.serConcentration)"
   ]
  },
  {
   "cell_type": "code",
   "execution_count": 5,
   "metadata": {
    "collapsed": false,
    "scrolled": true
   },
   "outputs": [
    {
     "data": {
      "text/plain": [
       "[0.61799999999999999,\n",
       " 5.117,\n",
       " 9.1890000000000001,\n",
       " 13.221,\n",
       " 17.239999999999998,\n",
       " 0.999,\n",
       " 0.00020000000000000009,\n",
       " 8.000000000000002e-05,\n",
       " 7.9999999999999979e-06,\n",
       " 3.0000000000000001e-06]"
      ]
     },
     "execution_count": 5,
     "metadata": {},
     "output_type": "execute_result"
    }
   ],
   "source": [
    "Model.serMBetaList"
   ]
  },
  {
   "cell_type": "code",
   "execution_count": null,
   "metadata": {
    "collapsed": true
   },
   "outputs": [],
   "source": []
  }
 ],
 "metadata": {
  "anaconda-cloud": {},
  "kernelspec": {
   "display_name": "Python [conda env:py3]",
   "language": "python",
   "name": "conda-env-py3-py"
  },
  "language_info": {
   "codemirror_mode": {
    "name": "ipython",
    "version": 3
   },
   "file_extension": ".py",
   "mimetype": "text/x-python",
   "name": "python",
   "nbconvert_exporter": "python",
   "pygments_lexer": "ipython3",
   "version": "3.5.2"
  }
 },
 "nbformat": 4,
 "nbformat_minor": 1
}
