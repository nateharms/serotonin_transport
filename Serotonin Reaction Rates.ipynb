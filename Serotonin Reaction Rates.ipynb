{
 "cells": [
  {
   "cell_type": "code",
   "execution_count": 1,
   "metadata": {
    "collapsed": true
   },
   "outputs": [],
   "source": [
    "#Estimation of reaction rates of bacterial serotonin production from published data, park et al, 2014\n",
    "#E.coli concentration at OD600=8e8 cells/ml, \n",
    "#initial concentration of tryptophan: 3 mM\n",
    "#initial concentration of serotonin: 0 mM\n",
    "\n",
    "#Assume 1st order, irreversible reaction (enzymatic, at low concentrations can assume non-MM) \n",
    "#Two step reaction, with one rate limiting step, will assume one reaction rate for overall reaction: A -> B -> C"
   ]
  },
  {
   "cell_type": "code",
   "execution_count": 11,
   "metadata": {
    "collapsed": false
   },
   "outputs": [],
   "source": [
    "import numpy as np\n",
    "from matplotlib import pyplot as plt\n",
    "%matplotlib inline\n",
    "\n",
    "timesRXN = np.array([0.0, 3.0, 6.0, 9.0, 12., 15.]) #hours, 24.\n",
    "serConcRXN = np.array([0.0, 0.055612, 0.124844, 0.147543, 0.173079, 0.181591]) #mM, 0.209965\n",
    "trpConcRXN = 3.0 - serConcRXN #mM\n",
    "\n",
    "\n"
   ]
  },
  {
   "cell_type": "code",
   "execution_count": 12,
   "metadata": {
    "collapsed": false
   },
   "outputs": [
    {
     "name": "stderr",
     "output_type": "stream",
     "text": [
      "/Users/Cain/anaconda2/envs/py3/lib/python3.5/site-packages/scipy/integrate/odepack.py:218: ODEintWarning: Excess work done on this call (perhaps wrong Dfun type). Run with full_output = 1 to get quantitative information.\n",
      "  warnings.warn(warning_msg, ODEintWarning)\n"
     ]
    },
    {
     "name": "stdout",
     "output_type": "stream",
     "text": [
      "\n",
      "\n",
      "First Order form of equation \n",
      "----------------------------------------\n",
      "\n",
      "Parameter 0: 0.004899925103392976 +/- 0.0003811735687509834 (1 st. dev.)\n",
      "\n",
      "\n",
      "Nonelementary form of equation \n",
      "----------------------------------------\n",
      "\n",
      "Parameter 0: 7.914570991513093e-08 +/- 4.129288819526405e-06 (1 st. dev.)\n",
      "Parameter 1: 11.346818337614689 +/- 46.79924767950837 (1 st. dev.)\n",
      "\n",
      "\n",
      "Michaelis_Menten form of equation \n",
      "----------------------------------------\n",
      "\n",
      "Parameter 0: 142.5892147158166 +/- 2090.513054010131 (1 st. dev.)\n",
      "Parameter 1: -0.7129059930814836 +/- 10.254282032723168 (1 st. dev.)\n"
     ]
    }
   ],
   "source": [
    "import scipy.optimize\n",
    "import scipy.integrate\n",
    "\n",
    "# Adapted Professor West's solution to regression assignment\n",
    "\n",
    "def first_order(times, k):\n",
    "    M = len(times)\n",
    "    y_data = np.zeros(M)\n",
    "    for i in range(M):\n",
    "        t = times[i]\n",
    "        \n",
    "        def dcAdt(cA, t):\n",
    "            return -1.*k*cA\n",
    "\n",
    "        cAo=3 #mmol/L\n",
    "        result = scipy.integrate.odeint(dcAdt, cAo, [0,t])\n",
    "        cA = result[-1,0]\n",
    "        y_data[i] = cA\n",
    "    return y_data\n",
    "\n",
    "def nonelementary(times, k, n):\n",
    "    \"\"\"\n",
    "    fitting to a R_a = k*C_a^n\n",
    "    \"\"\"\n",
    "    M = len(times)\n",
    "    y_data = np.zeros(M)\n",
    "    for i in range(M):\n",
    "        t = times[i]\n",
    "        \n",
    "        def dcAdt(cA, t):\n",
    "            return -1.*k*cA**n\n",
    "\n",
    "        cAo=3 #mmol/L\n",
    "        result = scipy.integrate.odeint(dcAdt, cAo, [0,t])\n",
    "        cA = result[-1,0]\n",
    "        y_data[i] = cA\n",
    "    return y_data\n",
    "\n",
    "    \n",
    "def Michaelis_Menten(times,K_m,v_max):\n",
    "    \"\"\"\n",
    "    Trying out a Michaelis_Menten fit for reaction kinetics of tryptophan to serotonin\n",
    "    \"\"\"\n",
    "    M = len(times)\n",
    "    y_data = np.zeros(M)\n",
    "\n",
    "    for i in range(M):\n",
    "        t = times[i]\n",
    "        \n",
    "        def dcAdt(cA, t):\n",
    "            return v_max*cA/(cA+K_m)\n",
    "    \n",
    "        cAo=3 #mmol/L\n",
    "        result = scipy.integrate.odeint(dcAdt, cAo, [0,t])\n",
    "        cA = result[-1,0]\n",
    "        y_data[i] = cA\n",
    "    return y_data\n",
    "\n",
    "startingGuessFO = (1e-3)\n",
    "startingGuessNE = (1, 1)\n",
    "startingGuessMM = (1, 1)\n",
    "\n",
    "fo_optimal_parameters, fo_covariance = scipy.optimize.curve_fit(first_order, timesRXN, trpConcRXN, \n",
    "                                                                p0=startingGuessFO, method = 'trf')\n",
    "\n",
    "ne_optimal_parameters, ne_covariance = scipy.optimize.curve_fit(nonelementary, timesRXN, trpConcRXN, \n",
    "                                                                p0=startingGuessNE, method = 'trf')\n",
    "\n",
    "mm_optimal_parameters, mm_covariance = scipy.optimize.curve_fit(Michaelis_Menten, timesRXN, trpConcRXN, \n",
    "                                                                p0=startingGuessMM, method = 'trf')\n",
    "\n",
    "\n",
    "def report(optimal_parameters, covariance):\n",
    "    \"Make this a function so we can reuse it in cells below\"\n",
    "    parameter_errors = np.sqrt(np.diag(covariance))\n",
    "    for i in range(len(optimal_parameters)):\n",
    "        print(\"Parameter {}: {} +/- {} (1 st. dev.)\".format(i,\n",
    "                                                            optimal_parameters[i],\n",
    "                                                            parameter_errors[i]))\n",
    "        \n",
    "print('\\n\\nFirst Order form of equation \\n' + '-'*40 + '\\n')\n",
    "report(fo_optimal_parameters, fo_covariance)        \n",
    "print('\\n\\nNonelementary form of equation \\n' + '-'*40 + '\\n')\n",
    "report(ne_optimal_parameters, ne_covariance)\n",
    "print('\\n\\nMichaelis_Menten form of equation \\n' + '-'*40 + '\\n')\n",
    "report(mm_optimal_parameters, mm_covariance)\n"
   ]
  },
  {
   "cell_type": "code",
   "execution_count": null,
   "metadata": {
    "collapsed": true
   },
   "outputs": [],
   "source": []
  },
  {
   "cell_type": "code",
   "execution_count": 8,
   "metadata": {
    "collapsed": false
   },
   "outputs": [
    {
     "ename": "NameError",
     "evalue": "name 'RXNfunction' is not defined",
     "output_type": "error",
     "traceback": [
      "\u001b[0;31m---------------------------------------------------------------------------\u001b[0m",
      "\u001b[0;31mNameError\u001b[0m                                 Traceback (most recent call last)",
      "\u001b[0;32m<ipython-input-8-0a9dbf86e839>\u001b[0m in \u001b[0;36m<module>\u001b[0;34m()\u001b[0m\n\u001b[1;32m     17\u001b[0m \u001b[0;34m\u001b[0m\u001b[0m\n\u001b[1;32m     18\u001b[0m \u001b[0;34m\u001b[0m\u001b[0m\n\u001b[0;32m---> 19\u001b[0;31m \u001b[0moptimal_parametersMin\u001b[0m\u001b[0;34m,\u001b[0m \u001b[0mcovarianceMin\u001b[0m \u001b[0;34m=\u001b[0m \u001b[0mscipy\u001b[0m\u001b[0;34m.\u001b[0m\u001b[0moptimize\u001b[0m\u001b[0;34m.\u001b[0m\u001b[0mcurve_fit\u001b[0m\u001b[0;34m(\u001b[0m\u001b[0mRXNfunction\u001b[0m\u001b[0;34m,\u001b[0m \u001b[0mtimesRXN\u001b[0m\u001b[0;34m,\u001b[0m \u001b[0mtrpConcRXNMin\u001b[0m\u001b[0;34m)\u001b[0m\u001b[0;34m\u001b[0m\u001b[0m\n\u001b[0m\u001b[1;32m     20\u001b[0m \u001b[0moptimal_parametersMax\u001b[0m\u001b[0;34m,\u001b[0m \u001b[0mcovarianceMax\u001b[0m \u001b[0;34m=\u001b[0m \u001b[0mscipy\u001b[0m\u001b[0;34m.\u001b[0m\u001b[0moptimize\u001b[0m\u001b[0;34m.\u001b[0m\u001b[0mcurve_fit\u001b[0m\u001b[0;34m(\u001b[0m\u001b[0mRXNfunction\u001b[0m\u001b[0;34m,\u001b[0m \u001b[0mtimesRXN\u001b[0m\u001b[0;34m,\u001b[0m \u001b[0mtrpConcRXNMax\u001b[0m\u001b[0;34m)\u001b[0m\u001b[0;34m\u001b[0m\u001b[0m\n\u001b[1;32m     21\u001b[0m \u001b[0;34m\u001b[0m\u001b[0m\n",
      "\u001b[0;31mNameError\u001b[0m: name 'RXNfunction' is not defined"
     ]
    }
   ],
   "source": [
    "#above assumes a concentration of 8e8 bacteria per mL\n",
    "#Based on average intestinal (small and large) volume of 130 mL\n",
    "#and total microbes in the body, 10^14, concentrations could be high as 10^14/130 per mL\n",
    "#but not all produce serotonin\n",
    "\n",
    "serProdMicrobeMax = 10e14/130 #bacteria per mL\n",
    "serProdMicrobeMin = serProdMicrobeMax*0.000001\n",
    "\n",
    "\n",
    "#Adjustments to k value based on bacterial concentration \n",
    "#serConcRXNMin = (serProdMicrobeMin/8e8)*serConcRXN\n",
    "#trpConcRXNMin = 3.0 - serConcRXNMin\n",
    "#serConcRXNMax = (serProdMicrobeMax/8e8)*serConcRXN\n",
    "#trpConcRXNMax = 3.0 - serConcRXNMax\n",
    "\n",
    "#does not account for change in RATE how to account for differences based on differences in number of bacteria from this data?\n",
    "\n",
    "\n",
    "optimal_parametersMin, covarianceMin = scipy.optimize.curve_fit(RXNfunction, timesRXN, trpConcRXNMin)\n",
    "optimal_parametersMax, covarianceMax = scipy.optimize.curve_fit(RXNfunction, timesRXN, trpConcRXNMax)\n",
    "\n",
    "report(optimal_parametersMin, covarianceMin)\n",
    "report(optimal_parametersMax, covarianceMax)\n",
    "\n",
    "plt.plot(timesRXN, trpConcRXNMin)\n",
    "plt.plot(timesRXN, trpConcRXNMax)\n",
    "plt.plot(x_many_points, RXNfunction(x_many_points, *optimal_parametersMin), label='fitted')\n",
    "plt.plot(x_many_points, RXNfunction(x_many_points, *optimal_parametersMax), label='fitted')\n",
    "    \n",
    "plt.show()\n",
    "    \n"
   ]
  },
  {
   "cell_type": "code",
   "execution_count": null,
   "metadata": {
    "collapsed": true
   },
   "outputs": [],
   "source": []
  }
 ],
 "metadata": {
  "anaconda-cloud": {},
  "kernelspec": {
   "display_name": "Python [conda env:py3]",
   "language": "python",
   "name": "conda-env-py3-py"
  },
  "language_info": {
   "codemirror_mode": {
    "name": "ipython",
    "version": 3
   },
   "file_extension": ".py",
   "mimetype": "text/x-python",
   "name": "python",
   "nbconvert_exporter": "python",
   "pygments_lexer": "ipython3",
   "version": "3.5.2"
  }
 },
 "nbformat": 4,
 "nbformat_minor": 0
}
