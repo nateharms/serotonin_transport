{
 "cells": [
  {
   "cell_type": "code",
   "execution_count": 1,
   "metadata": {
    "collapsed": true
   },
   "outputs": [],
   "source": [
    "#Estimation of reaction rates of bacterial serotonin production from published data, park et al, 2014\n",
    "#E.coli concentration at OD600=8e8 cells/ml, \n",
    "#initial concentration of tryptophan: 3 mM\n",
    "#initial concentration of serotonin: 0 mM\n",
    "\n",
    "#Assume 1st order, irreversible reaction (enzymatic, at low concentrations can assume non-MM) \n",
    "#Two step reaction, with one rate limiting step, will assume one reaction rate for overall reaction: A -> B -> C"
   ]
  },
  {
   "cell_type": "code",
   "execution_count": 5,
   "metadata": {
    "collapsed": false
   },
   "outputs": [],
   "source": [
    "import numpy\n",
    "from matplotlib import pyplot as plt\n",
    "%matplotlib inline\n",
    "\n",
    "timesRXN = numpy.array([0.0, 3.0, 6.0, 9.0, 12., 15., 24.]) #hours\n",
    "serConcRXN = numpy.array([0.0, 0.055612, 0.124844, 0.147543, 0.173079, 0.181591, 0.209965]) #mM\n",
    "trpConcRXN = 3.0 - serConcRXN #mM\n",
    "\n",
    "\n"
   ]
  },
  {
   "cell_type": "code",
   "execution_count": 6,
   "metadata": {
    "collapsed": false
   },
   "outputs": [
    {
     "name": "stdout",
     "output_type": "stream",
     "text": [
      "Parameter 0: 0.003924757968610744 +/- 0.0004521307226862496 (1 st. dev.)\n"
     ]
    },
    {
     "data": {
      "image/png": "[encoded data removed]",
      "text/plain": [
       "<matplotlib.figure.Figure at 0x1e9cdfccb70>"
      ]
     },
     "metadata": {},
     "output_type": "display_data"
    }
   ],
   "source": [
    "import scipy.optimize\n",
    "\n",
    "def RXNfunction(t,k):\n",
    "    \"First order, irreversible reaction to approximate conversion of tryptophan to serotonin\"\n",
    "    #ln(ca/cao)=-kt\n",
    "    #units k, 1/h\n",
    "    cao=3 #mmol/L\n",
    "    return numpy.exp(-1.0*k*t)*cao\n",
    "\n",
    "\n",
    "#from dr west's regression assignment for class\n",
    "optimal_parameters, covariance = scipy.optimize.curve_fit(RXNfunction, timesRXN, trpConcRXN)\n",
    "\n",
    "def report(optimal_parameters, covariance):\n",
    "    \"Make this a function so we can reuse it in cells below\"\n",
    "    parameter_errors = numpy.sqrt(numpy.diag(covariance))\n",
    "    for i in range(len(optimal_parameters)):\n",
    "        print(\"Parameter {}: {} +/- {} (1 st. dev.)\".format(i,\n",
    "                                                            optimal_parameters[i],\n",
    "                                                            parameter_errors[i]))\n",
    "\n",
    "\n",
    "# This should end up with your optimized parameters\n",
    "##optimized_parameters = ParameterSet(0,0,0,0)\n",
    "report(optimal_parameters, covariance)\n",
    "\n",
    "# Plot the data\n",
    "plt.plot(timesRXN, trpConcRXN, 'o', label='data')\n",
    "\n",
    "    # Make a new x array with 50 points for smoother lines\n",
    "x_many_points = numpy.linspace(timesRXN.min(),timesRXN.max(),50)\n",
    "    # Plot the fitted curve\n",
    "plt.plot(x_many_points, RXNfunction(x_many_points, *optimal_parameters), label='fitted')\n",
    "    \n",
    "plt.show()"
   ]
  },
  {
   "cell_type": "code",
   "execution_count": 4,
   "metadata": {
    "collapsed": false
   },
   "outputs": [
    {
     "ename": "NameError",
     "evalue": "name 'trpConcRXNMin' is not defined",
     "output_type": "error",
     "traceback": [
      "\u001b[1;31m---------------------------------------------------------------------------\u001b[0m",
      "\u001b[1;31mNameError\u001b[0m                                 Traceback (most recent call last)",
      "\u001b[1;32m<ipython-input-4-0a9dbf86e839>\u001b[0m in \u001b[0;36m<module>\u001b[1;34m()\u001b[0m\n\u001b[0;32m     17\u001b[0m \u001b[1;33m\u001b[0m\u001b[0m\n\u001b[0;32m     18\u001b[0m \u001b[1;33m\u001b[0m\u001b[0m\n\u001b[1;32m---> 19\u001b[1;33m \u001b[0moptimal_parametersMin\u001b[0m\u001b[1;33m,\u001b[0m \u001b[0mcovarianceMin\u001b[0m \u001b[1;33m=\u001b[0m \u001b[0mscipy\u001b[0m\u001b[1;33m.\u001b[0m\u001b[0moptimize\u001b[0m\u001b[1;33m.\u001b[0m\u001b[0mcurve_fit\u001b[0m\u001b[1;33m(\u001b[0m\u001b[0mRXNfunction\u001b[0m\u001b[1;33m,\u001b[0m \u001b[0mtimesRXN\u001b[0m\u001b[1;33m,\u001b[0m \u001b[0mtrpConcRXNMin\u001b[0m\u001b[1;33m)\u001b[0m\u001b[1;33m\u001b[0m\u001b[0m\n\u001b[0m\u001b[0;32m     20\u001b[0m \u001b[0moptimal_parametersMax\u001b[0m\u001b[1;33m,\u001b[0m \u001b[0mcovarianceMax\u001b[0m \u001b[1;33m=\u001b[0m \u001b[0mscipy\u001b[0m\u001b[1;33m.\u001b[0m\u001b[0moptimize\u001b[0m\u001b[1;33m.\u001b[0m\u001b[0mcurve_fit\u001b[0m\u001b[1;33m(\u001b[0m\u001b[0mRXNfunction\u001b[0m\u001b[1;33m,\u001b[0m \u001b[0mtimesRXN\u001b[0m\u001b[1;33m,\u001b[0m \u001b[0mtrpConcRXNMax\u001b[0m\u001b[1;33m)\u001b[0m\u001b[1;33m\u001b[0m\u001b[0m\n\u001b[0;32m     21\u001b[0m \u001b[1;33m\u001b[0m\u001b[0m\n",
      "\u001b[1;31mNameError\u001b[0m: name 'trpConcRXNMin' is not defined"
     ]
    }
   ],
   "source": [
    "#above assumes a concentration of 8e8 bacteria per mL\n",
    "#Based on average intestinal (small and large) volume of 130 mL\n",
    "#and total microbes in the body, 10^14, concentrations could be high as 10^14/130 per mL\n",
    "#but not all produce serotonin\n",
    "\n",
    "serProdMicrobeMax = 10e14/130 #bacteria per mL\n",
    "serProdMicrobeMin = serProdMicrobeMax*0.000001\n",
    "\n",
    "\n",
    "#Adjustments to k value based on bacterial concentration \n",
    "#serConcRXNMin = (serProdMicrobeMin/8e8)*serConcRXN\n",
    "#trpConcRXNMin = 3.0 - serConcRXNMin\n",
    "#serConcRXNMax = (serProdMicrobeMax/8e8)*serConcRXN\n",
    "#trpConcRXNMax = 3.0 - serConcRXNMax\n",
    "\n",
    "#does not account for change in RATE how to account for differences based on differences in number of bacteria from this data?\n",
    "\n",
    "\n",
    "optimal_parametersMin, covarianceMin = scipy.optimize.curve_fit(RXNfunction, timesRXN, trpConcRXNMin)\n",
    "optimal_parametersMax, covarianceMax = scipy.optimize.curve_fit(RXNfunction, timesRXN, trpConcRXNMax)\n",
    "\n",
    "report(optimal_parametersMin, covarianceMin)\n",
    "report(optimal_parametersMax, covarianceMax)\n",
    "\n",
    "plt.plot(timesRXN, trpConcRXNMin)\n",
    "plt.plot(timesRXN, trpConcRXNMax)\n",
    "plt.plot(x_many_points, RXNfunction(x_many_points, *optimal_parametersMin), label='fitted')\n",
    "plt.plot(x_many_points, RXNfunction(x_many_points, *optimal_parametersMax), label='fitted')\n",
    "    \n",
    "plt.show()\n",
    "    \n"
   ]
  },
  {
   "cell_type": "code",
   "execution_count": null,
   "metadata": {
    "collapsed": true
   },
   "outputs": [],
   "source": []
  }
 ],
 "metadata": {
  "kernelspec": {
   "display_name": "Python [Root]",
   "language": "python",
   "name": "Python [Root]"
  },
  "language_info": {
   "codemirror_mode": {
    "name": "ipython",
    "version": 3
   },
   "file_extension": ".py",
   "mimetype": "text/x-python",
   "name": "python",
   "nbconvert_exporter": "python",
   "pygments_lexer": "ipython3",
   "version": "3.5.2"
  }
 },
 "nbformat": 4,
 "nbformat_minor": 0
}
