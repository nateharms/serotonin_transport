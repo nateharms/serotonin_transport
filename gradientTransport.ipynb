{
 "cells": [
  {
   "cell_type": "code",
   "execution_count": 1,
   "metadata": {
    "collapsed": true
   },
   "outputs": [],
   "source": [
    "import numpy as np"
   ]
  },
  {
   "cell_type": "code",
   "execution_count": 34,
   "metadata": {
    "collapsed": true
   },
   "outputs": [],
   "source": [
    "array = np.array([\n",
    "    [5,0,0,0],\n",
    "    [5,0,0,0],\n",
    "    [5,0,0,0],\n",
    "    [5,0,0,0]\n",
    "])"
   ]
  },
  {
   "cell_type": "code",
   "execution_count": 30,
   "metadata": {
    "collapsed": false
   },
   "outputs": [
    {
     "data": {
      "text/plain": [
       "array([[ 0. , -1. ,  0. ,  0. ],\n",
       "       [ 0. ,  0.5,  0. ,  0. ],\n",
       "       [ 0. , -1. ,  0. ,  0. ],\n",
       "       [ 0. , -4. ,  0. ,  0. ]])"
      ]
     },
     "execution_count": 30,
     "metadata": {},
     "output_type": "execute_result"
    }
   ],
   "source": [
    "derv = np.gradient(array)[0]\n",
    "derv"
   ]
  },
  {
   "cell_type": "code",
   "execution_count": 35,
   "metadata": {
    "collapsed": false
   },
   "outputs": [
    {
     "name": "stdout",
     "output_type": "stream",
     "text": [
      "[[5 0 0 0]\n",
      " [5 0 0 0]\n",
      " [5 0 0 0]\n",
      " [5 0 0 0]]\n",
      "[[ 0.  -2.5  0.   0. ]\n",
      " [ 0.  -2.5  0.   0. ]\n",
      " [ 0.  -2.5  0.   0. ]\n",
      " [ 0.  -2.5  0.   0. ]]\n",
      "[[-2.5  -2.5   1.25  0.  ]\n",
      " [-2.5  -2.5   1.25  0.  ]\n",
      " [-2.5  -2.5   1.25  0.  ]\n",
      " [-2.5  -2.5   1.25  0.  ]]\n",
      "[[-2.5   -0.625  2.5   -1.25 ]\n",
      " [-2.5   -0.625  2.5   -1.25 ]\n",
      " [-2.5   -0.625  2.5   -1.25 ]\n",
      " [-2.5   -0.625  2.5   -1.25 ]]\n",
      "[[-0.625   1.875   2.1875 -5.    ]\n",
      " [-0.625   1.875   2.1875 -5.    ]\n",
      " [-0.625   1.875   2.1875 -5.    ]\n",
      " [-0.625   1.875   2.1875 -5.    ]]\n",
      "[[  1.875     3.28125  -1.25    -12.1875 ]\n",
      " [  1.875     3.28125  -1.25    -12.1875 ]\n",
      " [  1.875     3.28125  -1.25    -12.1875 ]\n",
      " [  1.875     3.28125  -1.25    -12.1875 ]]\n"
     ]
    }
   ],
   "source": [
    "print array\n",
    "for i in range(5):\n",
    "    derv = np.gradient(array)\n",
    "    array = array + derv[0] + derv[1]\n",
    "    print array\n"
   ]
  },
  {
   "cell_type": "code",
   "execution_count": null,
   "metadata": {
    "collapsed": true
   },
   "outputs": [],
   "source": []
  }
 ],
 "metadata": {
  "kernelspec": {
   "display_name": "Python 2",
   "language": "python",
   "name": "python2"
  },
  "language_info": {
   "codemirror_mode": {
    "name": "ipython",
    "version": 2
   },
   "file_extension": ".py",
   "mimetype": "text/x-python",
   "name": "python",
   "nbconvert_exporter": "python",
   "pygments_lexer": "ipython2",
   "version": "2.7.12"
  }
 },
 "nbformat": 4,
 "nbformat_minor": 2
}
